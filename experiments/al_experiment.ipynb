{
 "cells": [
  {
   "cell_type": "markdown",
   "id": "c430edfb",
   "metadata": {},
   "source": [
    "# E.1 Imports"
   ]
  },
  {
   "cell_type": "code",
   "execution_count": 1,
   "id": "b248931c",
   "metadata": {},
   "outputs": [],
   "source": [
    "# set current path to the parent, to enable absolute imports \n",
    "\n",
    "import os\n",
    "from pathlib import Path\n",
    "\n",
    "curr_path = Path(os.getcwd()).parent\n",
    "os.chdir(curr_path)"
   ]
  },
  {
   "cell_type": "code",
   "execution_count": 2,
   "id": "ecdd9ec0",
   "metadata": {},
   "outputs": [
    {
     "name": "stderr",
     "output_type": "stream",
     "text": [
      "C:\\Users\\sebastian.keil\\Anaconda3\\envs\\ai_thesis\\lib\\site-packages\\tqdm\\auto.py:22: TqdmWarning: IProgress not found. Please update jupyter and ipywidgets. See https://ipywidgets.readthedocs.io/en/stable/user_install.html\n",
      "  from .autonotebook import tqdm as notebook_tqdm\n"
     ]
    }
   ],
   "source": [
    "import pandas as pd\n",
    "import numpy as np\n",
    "import matplotlib.pyplot as plt\n",
    "import scipy.stats\n",
    "import torch\n",
    "import seaborn as sns\n",
    "import sqlite3\n",
    "import sqlalchemy\n",
    "from transformers import BertTokenizer\n",
    "from sklearn.model_selection import train_test_split\n",
    "from torch.utils.data import TensorDataset\n",
    "import random\n",
    "\n",
    "from torch.utils.data import DataLoader, RandomSampler\n",
    "from torch.optim import Adam\n",
    "from torch.nn import MSELoss\n",
    "import math\n",
    "from torch.utils.data import SequentialSampler\n",
    "from transformers import BertForSequenceClassification\n",
    "\n",
    "from main.active_learning.utils import seed_pool_split, experiment_AL\n",
    "from main.active_learning.datasets import ALDataset"
   ]
  },
  {
   "cell_type": "markdown",
   "id": "a9b8d73c",
   "metadata": {},
   "source": [
    "# E.2 Data Loading and Prep"
   ]
  },
  {
   "cell_type": "code",
   "execution_count": 3,
   "id": "41b33d95",
   "metadata": {},
   "outputs": [
    {
     "name": "stdout",
     "output_type": "stream",
     "text": [
      "Using device: cpu\n"
     ]
    }
   ],
   "source": [
    "# put device onto GPU\n",
    "device = 'cuda' if torch.cuda.is_available() else 'cpu'\n",
    "print(f'Using device: {device}')\n",
    "if torch.cuda.is_available():\n",
    "  print(f\"GPU name: {torch.cuda.get_device_name()}\")\n"
   ]
  },
  {
   "cell_type": "code",
   "execution_count": 4,
   "id": "79623baa",
   "metadata": {},
   "outputs": [],
   "source": [
    "# read in: first 200 labeled instances\n",
    "# toDO: read in more data\n",
    "\n",
    "sent_df = pd.read_csv('files/datasets/labeled/l01_reuters_sample200.csv')"
   ]
  },
  {
   "cell_type": "code",
   "execution_count": 5,
   "id": "6fbfbba7",
   "metadata": {},
   "outputs": [],
   "source": [
    "# drop the miscellaneous instances\n",
    "\n",
    "sent_df = sent_df[sent_df['is_miscellaneous'] == False]"
   ]
  },
  {
   "cell_type": "code",
   "execution_count": 6,
   "id": "bd5eaaaa",
   "metadata": {},
   "outputs": [],
   "source": [
    "# extract sentences and valence/arousal labels as numpy arrays\n",
    "\n",
    "sentences = sent_df.sentence.values\n",
    "v_labels = sent_df.valence.values\n",
    "a_labels = sent_df.arousal.values"
   ]
  },
  {
   "cell_type": "code",
   "execution_count": 7,
   "id": "d8b4d867",
   "metadata": {},
   "outputs": [
    {
     "name": "stdout",
     "output_type": "stream",
     "text": [
      "Loading BERT tokenizer...\n"
     ]
    }
   ],
   "source": [
    "# toDO: check what else we can do with tokenization\n",
    "# e.g. add financial words to the vocabulary\n",
    "# e.g. take another pre-trained tokenizer model\n",
    "\n",
    "# Load the BERT tokenizer.\n",
    "print('Loading BERT tokenizer...')\n",
    "tokenizer = BertTokenizer.from_pretrained('bert-base-uncased', do_lower_case=True)"
   ]
  },
  {
   "cell_type": "code",
   "execution_count": 8,
   "id": "64bd3576",
   "metadata": {},
   "outputs": [
    {
     "name": "stdout",
     "output_type": "stream",
     "text": [
      "Max sentence length:  62\n"
     ]
    }
   ],
   "source": [
    "\n",
    "# measure the maximum sentence length\n",
    "# this is needed for adjusting the BERT size later\n",
    "\n",
    "\n",
    "max_len = 0\n",
    "# For every sentence...\n",
    "for sent in sentences:\n",
    "    # Tokenize the text and add `[CLS]` and `[SEP]` tokens.\n",
    "    input_ids = tokenizer.encode(sent, add_special_tokens=True)\n",
    "    # Update the maximum sentence length.\n",
    "    max_len = max(max_len, len(input_ids))\n",
    "print('Max sentence length: ', max_len)\n"
   ]
  },
  {
   "cell_type": "code",
   "execution_count": 9,
   "id": "b7f8abdb",
   "metadata": {},
   "outputs": [
    {
     "name": "stdout",
     "output_type": "stream",
     "text": [
      "Original:  The automaker also said it is considering introducing subcompact SUV models in South Korea, the United States and Europe.\n",
      "Token IDs: tensor([  101,  1996,  8285,  8571,  2036,  2056,  2009,  2003,  6195, 10449,\n",
      "         4942,  9006, 19498,  2102, 15620,  4275,  1999,  2148,  4420,  1010,\n",
      "         1996,  2142,  2163,  1998,  2885,  1012,   102,     0,     0,     0,\n",
      "            0,     0,     0,     0,     0,     0,     0,     0,     0,     0,\n",
      "            0,     0,     0,     0,     0,     0,     0,     0,     0,     0,\n",
      "            0,     0,     0,     0,     0,     0,     0,     0,     0,     0,\n",
      "            0,     0,     0,     0,     0,     0,     0,     0,     0,     0,\n",
      "            0,     0,     0,     0,     0])\n",
      "Valence:  tensor(0.6400, dtype=torch.float64)\n",
      "Arousal:  tensor(0.5100, dtype=torch.float64)\n"
     ]
    }
   ],
   "source": [
    "\n",
    "# Tokenize all of the sentences and map the tokens to their word IDs.\n",
    "input_ids = []\n",
    "attention_masks = []\n",
    "\n",
    "# For every sentence...\n",
    "for sent in sentences:\n",
    "    # `encode_plus` will:\n",
    "    #   (1) Tokenize the sentence.\n",
    "    #   (2) Prepend the `[CLS]` token to the start.\n",
    "    #   (3) Append the `[SEP]` token to the end.\n",
    "    #   (4) Map tokens to their IDs.\n",
    "    #   (5) Pad or truncate the sentence to `max_length`\n",
    "    #   (6) Create attention masks for [PAD] tokens.\n",
    "    encoded_dict = tokenizer.encode_plus(\n",
    "        sent,  # Sentence to encode.\n",
    "        add_special_tokens=True,  # Add '[CLS]' and '[SEP]'\n",
    "        max_length=75,  # Pad & truncate all sentences.\n",
    "        padding='max_length',\n",
    "        return_attention_mask=True,  # Construct attn. masks.\n",
    "        return_tensors='pt',  # Return pytorch tensors.\n",
    "    )\n",
    "\n",
    "    # Add the encoded sentence to the list.\n",
    "    input_ids.append(encoded_dict['input_ids'])\n",
    "\n",
    "    # And its attention mask (simply differentiates padding from non-padding).\n",
    "    attention_masks.append(encoded_dict['attention_mask'])\n",
    "\n",
    "# Convert the lists into tensors.\n",
    "input_ids = torch.cat(input_ids, dim=0)\n",
    "attention_masks = torch.cat(attention_masks, dim=0)\n",
    "\n",
    "v_labels = torch.tensor(v_labels)\n",
    "a_labels = torch.tensor(a_labels)\n",
    "\n",
    "# Print sentence 0, now as a list of IDs.\n",
    "print('Original: ', sentences[0])\n",
    "print('Token IDs:', input_ids[0])\n",
    "print('Valence: ', v_labels[0])\n",
    "print('Arousal: ', a_labels[0])\n"
   ]
  },
  {
   "cell_type": "markdown",
   "id": "26f742b5",
   "metadata": {},
   "source": [
    "# E.3 Main Experiment"
   ]
  },
  {
   "cell_type": "code",
   "execution_count": 10,
   "id": "da31f120",
   "metadata": {},
   "outputs": [],
   "source": [
    "# set all the random seeds\n",
    "\n",
    "RANDOM_STATE = 42 \n",
    "random.seed(RANDOM_STATE)\n",
    "np.random.seed(RANDOM_STATE)\n",
    "torch.manual_seed(RANDOM_STATE)\n",
    "torch.cuda.manual_seed_all(RANDOM_STATE)"
   ]
  },
  {
   "cell_type": "code",
   "execution_count": 11,
   "id": "0f0f3966",
   "metadata": {},
   "outputs": [],
   "source": [
    "# experiment parameters\n",
    "\n",
    "TRAIN_SIZE = 0.75\n",
    "methods = ['random', 'farthest-first', 'mc-dropout']\n",
    "batch_sizes = [3]  # 4,\n",
    "lrs = [1e-6]  # 1e-5"
   ]
  },
  {
   "cell_type": "code",
   "execution_count": 19,
   "id": "f6a1588f",
   "metadata": {},
   "outputs": [],
   "source": [
    "# initiate results storage for valence and arousal models\n",
    "\n",
    "v_results, a_results = {}, {}"
   ]
  },
  {
   "cell_type": "code",
   "execution_count": 20,
   "id": "3c05cd94",
   "metadata": {},
   "outputs": [
    {
     "name": "stdout",
     "output_type": "stream",
     "text": [
      "----------------------------------------\n",
      "METHOD: random. BATCH SIZE: 3. LEARNING RATE: 1e-06 \n",
      "----------------------------------------\n",
      "Downloading Valence model...\n"
     ]
    },
    {
     "name": "stderr",
     "output_type": "stream",
     "text": [
      "Some weights of the model checkpoint at bert-base-uncased were not used when initializing BertForSequenceClassification: ['cls.predictions.transform.LayerNorm.weight', 'cls.seq_relationship.weight', 'cls.predictions.transform.dense.weight', 'cls.seq_relationship.bias', 'cls.predictions.bias', 'cls.predictions.transform.dense.bias', 'cls.predictions.decoder.weight', 'cls.predictions.transform.LayerNorm.bias']\n",
      "- This IS expected if you are initializing BertForSequenceClassification from the checkpoint of a model trained on another task or with another architecture (e.g. initializing a BertForSequenceClassification model from a BertForPreTraining model).\n",
      "- This IS NOT expected if you are initializing BertForSequenceClassification from the checkpoint of a model that you expect to be exactly identical (initializing a BertForSequenceClassification model from a BertForSequenceClassification model).\n",
      "Some weights of BertForSequenceClassification were not initialized from the model checkpoint at bert-base-uncased and are newly initialized: ['classifier.weight', 'classifier.bias']\n",
      "You should probably TRAIN this model on a down-stream task to be able to use it for predictions and inference.\n"
     ]
    },
    {
     "name": "stdout",
     "output_type": "stream",
     "text": [
      "Downloading Arousal model...\n"
     ]
    },
    {
     "name": "stderr",
     "output_type": "stream",
     "text": [
      "Some weights of the model checkpoint at bert-base-uncased were not used when initializing BertForSequenceClassification: ['cls.predictions.transform.LayerNorm.weight', 'cls.seq_relationship.weight', 'cls.predictions.transform.dense.weight', 'cls.seq_relationship.bias', 'cls.predictions.bias', 'cls.predictions.transform.dense.bias', 'cls.predictions.decoder.weight', 'cls.predictions.transform.LayerNorm.bias']\n",
      "- This IS expected if you are initializing BertForSequenceClassification from the checkpoint of a model trained on another task or with another architecture (e.g. initializing a BertForSequenceClassification model from a BertForPreTraining model).\n",
      "- This IS NOT expected if you are initializing BertForSequenceClassification from the checkpoint of a model that you expect to be exactly identical (initializing a BertForSequenceClassification model from a BertForSequenceClassification model).\n",
      "Some weights of BertForSequenceClassification were not initialized from the model checkpoint at bert-base-uncased and are newly initialized: ['classifier.weight', 'classifier.bias']\n",
      "You should probably TRAIN this model on a down-stream task to be able to use it for predictions and inference.\n"
     ]
    },
    {
     "name": "stdout",
     "output_type": "stream",
     "text": [
      "Valence Sample Pool Size:  12 Arousal Sample Pool Size:  12\n",
      "----------------------------------------\n",
      "RUNNING VALENCE EXPERIMENT\n",
      "----------------------------------------\n",
      "Total number of batches in the pool:  4\n",
      " Finding batch 1/4...\n",
      "Current pool size:  12\n",
      "Seed Size: 3 instances\n",
      "Average RMSE:  0.22626662391723262\n",
      "Average test RMSE: 0.4757045421008195\n",
      "Method: random. Chosen indices: [ 1  3 10]\n",
      " Finding batch 2/4...\n",
      "Current pool size:  9\n",
      "Seed Size: 6 instances\n",
      "Average RMSE:  0.16114398717579023\n",
      "Average test RMSE: 0.4222540446275488\n",
      "Method: random. Chosen indices: [8 0 4]\n",
      " Finding batch 3/4...\n",
      "Current pool size:  6\n",
      "Seed Size: 9 instances\n",
      "Average RMSE:  0.15864969943399015\n",
      "Average test RMSE: 0.33573818892986085\n",
      "Method: random. Chosen indices: [1 4 3]\n",
      " Finding batch 4/4...\n",
      "Current pool size:  3\n",
      "Seed Size: 12 instances\n",
      "Average RMSE:  0.12396969589664775\n",
      "Average test RMSE: 0.21514527791006052\n",
      "Method: random. Chosen indices: [0 1 2]\n",
      "----------------------------------------\n",
      "RUNNING AROUSAL EXPERIMENT\n",
      "----------------------------------------\n",
      "Total number of batches in the pool:  4\n",
      " Finding batch 1/4...\n",
      "Current pool size:  12\n",
      "Seed Size: 3 instances\n",
      "Average RMSE:  0.24258756238701215\n",
      "Average test RMSE: 0.5757517885884996\n",
      "Method: random. Chosen indices: [0 2 6]\n",
      " Finding batch 2/4...\n",
      "Current pool size:  9\n",
      "Seed Size: 6 instances\n",
      "Average RMSE:  0.22546737115104518\n",
      "Average test RMSE: 0.5221421016709005\n",
      "Method: random. Chosen indices: [5 4 1]\n",
      " Finding batch 3/4...\n",
      "Current pool size:  6\n",
      "Seed Size: 9 instances\n",
      "Average RMSE:  0.18230396944862493\n",
      "Average test RMSE: 0.4352362771890653\n",
      "Method: random. Chosen indices: [1 2 0]\n",
      " Finding batch 4/4...\n",
      "Current pool size:  3\n",
      "Seed Size: 12 instances\n",
      "Average RMSE:  0.13643296390561113\n",
      "Average test RMSE: 0.300503719928175\n",
      "Method: random. Chosen indices: [0 1 2]\n",
      "----------------------------------------\n",
      "METHOD: farthest-first. BATCH SIZE: 3. LEARNING RATE: 1e-06 \n",
      "----------------------------------------\n",
      "Downloading Valence model...\n"
     ]
    },
    {
     "name": "stderr",
     "output_type": "stream",
     "text": [
      "Some weights of the model checkpoint at bert-base-uncased were not used when initializing BertForSequenceClassification: ['cls.predictions.transform.LayerNorm.weight', 'cls.seq_relationship.weight', 'cls.predictions.transform.dense.weight', 'cls.seq_relationship.bias', 'cls.predictions.bias', 'cls.predictions.transform.dense.bias', 'cls.predictions.decoder.weight', 'cls.predictions.transform.LayerNorm.bias']\n",
      "- This IS expected if you are initializing BertForSequenceClassification from the checkpoint of a model trained on another task or with another architecture (e.g. initializing a BertForSequenceClassification model from a BertForPreTraining model).\n",
      "- This IS NOT expected if you are initializing BertForSequenceClassification from the checkpoint of a model that you expect to be exactly identical (initializing a BertForSequenceClassification model from a BertForSequenceClassification model).\n",
      "Some weights of BertForSequenceClassification were not initialized from the model checkpoint at bert-base-uncased and are newly initialized: ['classifier.weight', 'classifier.bias']\n",
      "You should probably TRAIN this model on a down-stream task to be able to use it for predictions and inference.\n"
     ]
    },
    {
     "name": "stdout",
     "output_type": "stream",
     "text": [
      "Downloading Arousal model...\n"
     ]
    },
    {
     "name": "stderr",
     "output_type": "stream",
     "text": [
      "Some weights of the model checkpoint at bert-base-uncased were not used when initializing BertForSequenceClassification: ['cls.predictions.transform.LayerNorm.weight', 'cls.seq_relationship.weight', 'cls.predictions.transform.dense.weight', 'cls.seq_relationship.bias', 'cls.predictions.bias', 'cls.predictions.transform.dense.bias', 'cls.predictions.decoder.weight', 'cls.predictions.transform.LayerNorm.bias']\n",
      "- This IS expected if you are initializing BertForSequenceClassification from the checkpoint of a model trained on another task or with another architecture (e.g. initializing a BertForSequenceClassification model from a BertForPreTraining model).\n",
      "- This IS NOT expected if you are initializing BertForSequenceClassification from the checkpoint of a model that you expect to be exactly identical (initializing a BertForSequenceClassification model from a BertForSequenceClassification model).\n",
      "Some weights of BertForSequenceClassification were not initialized from the model checkpoint at bert-base-uncased and are newly initialized: ['classifier.weight', 'classifier.bias']\n",
      "You should probably TRAIN this model on a down-stream task to be able to use it for predictions and inference.\n"
     ]
    },
    {
     "name": "stdout",
     "output_type": "stream",
     "text": [
      "Valence Sample Pool Size:  12 Arousal Sample Pool Size:  12\n",
      "----------------------------------------\n",
      "RUNNING VALENCE EXPERIMENT\n",
      "----------------------------------------\n",
      "Total number of batches in the pool:  4\n",
      " Finding batch 1/4...\n",
      "Current pool size:  12\n",
      "Seed Size: 3 instances\n",
      "Average RMSE:  0.22626662391723262\n",
      "Average test RMSE: 0.4757045421008195\n",
      "Number of embedding vectors:  3\n",
      "Number of embedding vectors:  12\n",
      "Method: farthest-first. Chosen indices: [ 6 11  8]\n",
      " Finding batch 2/4...\n",
      "Current pool size:  9\n",
      "Seed Size: 6 instances\n",
      "Average RMSE:  0.16635006874757188\n",
      "Average test RMSE: 0.4236282102437471\n",
      "Number of embedding vectors:  6\n",
      "Number of embedding vectors:  9\n",
      "Method: farthest-first. Chosen indices: [2 0 6]\n",
      " Finding batch 3/4...\n",
      "Current pool size:  6\n",
      "Seed Size: 9 instances\n",
      "Average RMSE:  0.14777621745857483\n",
      "Average test RMSE: 0.3353815503915579\n",
      "Number of embedding vectors:  9\n",
      "Number of embedding vectors:  6\n",
      "Method: farthest-first. Chosen indices: [0 4 2]\n",
      " Finding batch 4/4...\n",
      "Current pool size:  3\n",
      "Seed Size: 12 instances\n",
      "Average RMSE:  0.1340044800495909\n",
      "Average test RMSE: 0.2075947526159594\n",
      "Number of embedding vectors:  12\n",
      "Number of embedding vectors:  3\n",
      "Method: farthest-first. Chosen indices: [1 0 2]\n",
      "----------------------------------------\n",
      "RUNNING AROUSAL EXPERIMENT\n",
      "----------------------------------------\n",
      "Total number of batches in the pool:  4\n",
      " Finding batch 1/4...\n",
      "Current pool size:  12\n",
      "Seed Size: 3 instances\n",
      "Average RMSE:  0.2204438884152985\n",
      "Average test RMSE: 0.5748459152857839\n",
      "Number of embedding vectors:  3\n",
      "Number of embedding vectors:  12\n",
      "Method: farthest-first. Chosen indices: [4 0 8]\n",
      " Finding batch 2/4...\n",
      "Current pool size:  9\n",
      "Seed Size: 6 instances\n",
      "Average RMSE:  0.18114663267594197\n",
      "Average test RMSE: 0.5199902223385253\n",
      "Number of embedding vectors:  6\n",
      "Number of embedding vectors:  9\n",
      "Method: farthest-first. Chosen indices: [7 6 3]\n",
      " Finding batch 3/4...\n",
      "Current pool size:  6\n",
      "Seed Size: 9 instances\n",
      "Average RMSE:  0.16942356618005242\n",
      "Average test RMSE: 0.4341711552778214\n",
      "Number of embedding vectors:  9\n",
      "Number of embedding vectors:  6\n",
      "Method: farthest-first. Chosen indices: [4 1 5]\n",
      " Finding batch 4/4...\n",
      "Current pool size:  3\n",
      "Seed Size: 12 instances\n",
      "Average RMSE:  0.15435677431188505\n",
      "Average test RMSE: 0.29713593717255193\n",
      "Number of embedding vectors:  12\n",
      "Number of embedding vectors:  3\n",
      "Method: farthest-first. Chosen indices: [0 1 2]\n",
      "----------------------------------------\n",
      "METHOD: mc-dropout. BATCH SIZE: 3. LEARNING RATE: 1e-06 \n",
      "----------------------------------------\n",
      "Downloading Valence model...\n"
     ]
    },
    {
     "name": "stderr",
     "output_type": "stream",
     "text": [
      "Some weights of the model checkpoint at bert-base-uncased were not used when initializing BertForSequenceClassification: ['cls.predictions.transform.LayerNorm.weight', 'cls.seq_relationship.weight', 'cls.predictions.transform.dense.weight', 'cls.seq_relationship.bias', 'cls.predictions.bias', 'cls.predictions.transform.dense.bias', 'cls.predictions.decoder.weight', 'cls.predictions.transform.LayerNorm.bias']\n",
      "- This IS expected if you are initializing BertForSequenceClassification from the checkpoint of a model trained on another task or with another architecture (e.g. initializing a BertForSequenceClassification model from a BertForPreTraining model).\n",
      "- This IS NOT expected if you are initializing BertForSequenceClassification from the checkpoint of a model that you expect to be exactly identical (initializing a BertForSequenceClassification model from a BertForSequenceClassification model).\n",
      "Some weights of BertForSequenceClassification were not initialized from the model checkpoint at bert-base-uncased and are newly initialized: ['classifier.weight', 'classifier.bias']\n",
      "You should probably TRAIN this model on a down-stream task to be able to use it for predictions and inference.\n"
     ]
    },
    {
     "name": "stdout",
     "output_type": "stream",
     "text": [
      "Downloading Arousal model...\n"
     ]
    },
    {
     "name": "stderr",
     "output_type": "stream",
     "text": [
      "Some weights of the model checkpoint at bert-base-uncased were not used when initializing BertForSequenceClassification: ['cls.predictions.transform.LayerNorm.weight', 'cls.seq_relationship.weight', 'cls.predictions.transform.dense.weight', 'cls.seq_relationship.bias', 'cls.predictions.bias', 'cls.predictions.transform.dense.bias', 'cls.predictions.decoder.weight', 'cls.predictions.transform.LayerNorm.bias']\n",
      "- This IS expected if you are initializing BertForSequenceClassification from the checkpoint of a model trained on another task or with another architecture (e.g. initializing a BertForSequenceClassification model from a BertForPreTraining model).\n",
      "- This IS NOT expected if you are initializing BertForSequenceClassification from the checkpoint of a model that you expect to be exactly identical (initializing a BertForSequenceClassification model from a BertForSequenceClassification model).\n",
      "Some weights of BertForSequenceClassification were not initialized from the model checkpoint at bert-base-uncased and are newly initialized: ['classifier.weight', 'classifier.bias']\n",
      "You should probably TRAIN this model on a down-stream task to be able to use it for predictions and inference.\n"
     ]
    },
    {
     "name": "stdout",
     "output_type": "stream",
     "text": [
      "Valence Sample Pool Size:  12 Arousal Sample Pool Size:  12\n",
      "----------------------------------------\n",
      "RUNNING VALENCE EXPERIMENT\n",
      "----------------------------------------\n",
      "Total number of batches in the pool:  4\n",
      " Finding batch 1/4...\n",
      "Current pool size:  12\n",
      "Seed Size: 3 instances\n",
      "Average RMSE:  0.22626662391723262\n",
      "Average test RMSE: 0.4757045421008195\n",
      "Method: mc-dropout. Chosen indices: [ 9  5 11]\n",
      " Finding batch 2/4...\n",
      "Current pool size:  9\n",
      "Seed Size: 6 instances\n",
      "Average RMSE:  0.19901916841081682\n",
      "Average test RMSE: 0.4285452754258308\n",
      "Method: mc-dropout. Chosen indices: [0 1 8]\n",
      " Finding batch 3/4...\n",
      "Current pool size:  6\n",
      "Seed Size: 9 instances\n",
      "Average RMSE:  0.1682965909831908\n",
      "Average test RMSE: 0.34373704796072296\n",
      "Method: mc-dropout. Chosen indices: [0 3 5]\n",
      " Finding batch 4/4...\n",
      "Current pool size:  3\n",
      "Seed Size: 12 instances\n",
      "Average RMSE:  0.1346946803219585\n",
      "Average test RMSE: 0.22636836823841539\n",
      "Method: mc-dropout. Chosen indices: [2 0 1]\n",
      "----------------------------------------\n",
      "RUNNING AROUSAL EXPERIMENT\n",
      "----------------------------------------\n",
      "Total number of batches in the pool:  4\n",
      " Finding batch 1/4...\n",
      "Current pool size:  12\n",
      "Seed Size: 3 instances\n",
      "Average RMSE:  0.2626004148096981\n",
      "Average test RMSE: 0.5754502693924309\n",
      "Method: mc-dropout. Chosen indices: [3 0 4]\n",
      " Finding batch 2/4...\n",
      "Current pool size:  9\n",
      "Seed Size: 6 instances\n",
      "Average RMSE:  0.1971343494881328\n",
      "Average test RMSE: 0.5225756695901856\n",
      "Method: mc-dropout. Chosen indices: [3 4 2]\n",
      " Finding batch 3/4...\n",
      "Current pool size:  6\n",
      "Seed Size: 9 instances\n",
      "Average RMSE:  0.17827562383166135\n",
      "Average test RMSE: 0.43515187468904304\n",
      "Method: mc-dropout. Chosen indices: [0 2 5]\n",
      " Finding batch 4/4...\n",
      "Current pool size:  3\n",
      "Seed Size: 12 instances\n",
      "Average RMSE:  0.14790522217266186\n",
      "Average test RMSE: 0.30251245209685396\n",
      "Method: mc-dropout. Chosen indices: [0 2 1]\n"
     ]
    }
   ],
   "source": [
    "# loop over all batch_sizes\n",
    "for batch_size in batch_sizes:\n",
    "    \n",
    "    # initiate storage in dictionary, in a nested manner\n",
    "    v_results[batch_size], a_results[batch_size] = {}, {}\n",
    "    \n",
    "    # loop over all the learning rates \n",
    "    for lr in lrs:\n",
    "        \n",
    "        # initiate storage in dictionary, in a nested manner\n",
    "        v_results[batch_size][lr], a_results[batch_size][lr] = {}, {}\n",
    "        \n",
    "        # loop over all the methods\n",
    "        for method in methods:\n",
    "            \n",
    "            # initiate storage in dictionary, in a nested manner\n",
    "            v_results[batch_size][lr][method], a_results[batch_size][lr][method] = {}, {}\n",
    "        \n",
    "            # print out modifications of this experiment loop\n",
    "            print(\"--\" * 20)\n",
    "            print(f\"METHOD: {method}. BATCH SIZE: {batch_size}. LEARNING RATE: {lr} \")\n",
    "            print(\"--\" * 20)\n",
    "\n",
    "            # seperate 25% for testing, 75% training\n",
    "            v_train_ds, v_test_ds = seed_pool_split(input_ids, attention_masks, v_labels, seed_size=TRAIN_SIZE,\n",
    "                                                    random_state=RANDOM_STATE)\n",
    "            a_train_ds, a_test_ds = seed_pool_split(input_ids, attention_masks, a_labels, seed_size=TRAIN_SIZE,\n",
    "                                                    random_state=RANDOM_STATE)\n",
    "\n",
    "            # initiate seed and pool\n",
    "            v_seed, v_pool = seed_pool_split(v_train_ds[0], v_train_ds[1], v_train_ds[2], seed_size=batch_size,\n",
    "                                             random_state=RANDOM_STATE)\n",
    "            a_seed, a_pool = seed_pool_split(a_train_ds[0], a_train_ds[1], a_train_ds[2], seed_size=batch_size,\n",
    "                                             random_state=RANDOM_STATE)\n",
    "\n",
    "            #v_results[method], a_results[method] = {}, {}\n",
    "            #v_results[method][batch_size], a_results[method][batch_size] = {}, {}\n",
    "\n",
    "            # download valence and arousal base models\n",
    "            print(\"Downloading Valence model...\")\n",
    "            torch.manual_seed(42)\n",
    "            v_model = BertForSequenceClassification.from_pretrained(\n",
    "                'bert-base-uncased',\n",
    "                num_labels=1,\n",
    "                output_attentions=False,\n",
    "                output_hidden_states=True)\n",
    "\n",
    "            print(\"Downloading Arousal model...\")\n",
    "            torch.manual_seed(42)\n",
    "            a_model = BertForSequenceClassification.from_pretrained(\n",
    "                'bert-base-uncased',\n",
    "                num_labels=1,\n",
    "                output_attentions=False,\n",
    "                output_hidden_states=True)\n",
    "\n",
    "            # initialize Active Learning datasets\n",
    "            v_seed_ds, v_pool_ds = ALDataset(v_seed[0], v_seed[1], v_seed[2]), ALDataset(v_pool[0], v_pool[1],\n",
    "                                                                                         v_pool[2])\n",
    "\n",
    "            a_seed_ds, a_pool_ds = ALDataset(a_seed[0], a_seed[1], a_seed[2]), ALDataset(a_pool[0], a_pool[1],\n",
    "                                                                                         a_pool[2])\n",
    "\n",
    "            # take a subsample only\n",
    "            SAMPLE_SIZE = 12\n",
    "            RANDOM_SEED = 42\n",
    "            v_pool_ds = v_pool_ds.subsample(SAMPLE_SIZE, RANDOM_SEED)\n",
    "            a_pool_ds = a_pool_ds.subsample(SAMPLE_SIZE, RANDOM_SEED)\n",
    "\n",
    "            print(\"Valence Sample Pool Size: \", len(v_pool_ds), \"Arousal Sample Pool Size: \", len(a_pool_ds))\n",
    "\n",
    "            # initate testsets\n",
    "            v_test_set = TensorDataset(v_test_ds[0], v_test_ds[1], v_test_ds[2])\n",
    "            a_test_set = TensorDataset(a_test_ds[0], a_test_ds[1], a_test_ds[2])\n",
    "\n",
    "            # start the experiments\n",
    "            print(\"--\" * 20)\n",
    "            print(\"RUNNING VALENCE EXPERIMENT\")\n",
    "            print(\"--\" * 20)\n",
    "            v_train_rmse_curve, v_test_loss_curve = experiment_AL(v_seed_ds, v_pool_ds, v_test_set, v_model, method, lr,\n",
    "                                                                  batch_size, device)\n",
    "\n",
    "            print(\"--\" * 20)\n",
    "            print(\"RUNNING AROUSAL EXPERIMENT\")\n",
    "            print(\"--\" * 20)\n",
    "            a_train_rmse_curve, a_test_loss_curve = experiment_AL(a_seed_ds, a_pool_ds, a_test_set, a_model, method, lr,\n",
    "                                                                  batch_size, device)\n",
    "\n",
    "            # store results\n",
    "            v_results[batch_size][lr][method]['train'], v_results[batch_size][lr][method]['test'] = v_train_rmse_curve, v_test_loss_curve\n",
    "            a_results[batch_size][lr][method]['train'], a_results[batch_size][lr][method]['test'] = a_train_rmse_curve, a_test_loss_curve\n",
    "            \n",
    "\n",
    "#             # append the results to dict\n",
    "#             v_results[method][batch_size][f'train_{lr}'], v_results[method][batch_size][\n",
    "#                 f'test_{lr}'] = v_train_rmse_curve, v_test_loss_curve\n",
    "#             a_results[method][batch_size][f'train_{lr}'], a_results[method][batch_size][\n",
    "#                 f'test_{lr}'] = a_train_rmse_curve, a_test_loss_curve\n",
    "\n",
    "#             # write results into txt file\n",
    "#             with open('experiment_results03.txt', 'a') as f:\n",
    "#                 f.write(f'v_train_{method}_lr_{lr}_bs_{batch_size}, {v_train_rmse_curve} \\n')\n",
    "#                 f.write(f'v_test_{method}_lr_{lr}_bs_{batch_size}, {v_test_loss_curve} \\n')\n",
    "#                 f.write(f'a_train_{method}_lr_{lr}_bs_{batch_size}, {a_train_rmse_curve} \\n')\n",
    "#                 f.write(f'a_test_{method}_lr_{lr}_bs_{batch_size}, {a_test_loss_curve} \\n')\n",
    "#             f.close()\n"
   ]
  },
  {
   "cell_type": "code",
   "execution_count": 21,
   "id": "48e20d30",
   "metadata": {},
   "outputs": [
    {
     "data": {
      "text/plain": [
       "{3: {1e-06: {'random': {'train': [0.22626662391723262,\n",
       "     0.16114398717579023,\n",
       "     0.15864969943399015,\n",
       "     0.12396969589664775],\n",
       "    'test': [0.4757045421008195,\n",
       "     0.4222540446275488,\n",
       "     0.33573818892986085,\n",
       "     0.21514527791006052]},\n",
       "   'farthest-first': {'train': [0.22626662391723262,\n",
       "     0.16635006874757188,\n",
       "     0.14777621745857483,\n",
       "     0.1340044800495909],\n",
       "    'test': [0.4757045421008195,\n",
       "     0.4236282102437471,\n",
       "     0.3353815503915579,\n",
       "     0.2075947526159594]},\n",
       "   'mc-dropout': {'train': [0.22626662391723262,\n",
       "     0.19901916841081682,\n",
       "     0.1682965909831908,\n",
       "     0.1346946803219585],\n",
       "    'test': [0.4757045421008195,\n",
       "     0.4285452754258308,\n",
       "     0.34373704796072296,\n",
       "     0.22636836823841539]}}}}"
      ]
     },
     "execution_count": 21,
     "metadata": {},
     "output_type": "execute_result"
    }
   ],
   "source": [
    "v_results"
   ]
  },
  {
   "cell_type": "code",
   "execution_count": 77,
   "id": "47ae4622",
   "metadata": {},
   "outputs": [],
   "source": [
    "# produce graph\n",
    "\n",
    "\n",
    "def plot_al_results(v_results, a_results, batch_size, lr):\n",
    "\n",
    "    fig = plt.figure(figsize=(16,10))\n",
    "\n",
    "    gs = fig.add_gridspec(nrows=2, ncols=2, hspace=0.05, wspace=0.05)\n",
    "\n",
    "    axs = gs.subplots(sharex=True)\n",
    "\n",
    "\n",
    "    for i, method in enumerate(v_results[batch_size][lr].keys()):\n",
    "        axs[0, 0].plot(v_results[batch_size][lr][method]['train'], label=method)\n",
    "        axs[1, 0].plot(v_results[batch_size][lr][method]['test'], label=method)\n",
    "        axs[0, 0].legend(); axs[1, 0].legend()\n",
    "        axs[0, 0].grid(); axs[1, 0].grid()\n",
    "\n",
    "        axs[0,0].set_title('Valence')\n",
    "        axs[0,0].set_ylabel('Training')\n",
    "        axs[1,0].set_ylabel('Testing')\n",
    "\n",
    "    for i, method in enumerate(a_results[batch_size][lr].keys()):\n",
    "        axs[0, 1].plot(a_results[batch_size][lr][method]['train'], label=method)\n",
    "        axs[1, 1].plot(a_results[batch_size][lr][method]['test'], label=method)\n",
    "        axs[0, 1].legend(); axs[1, 1].legend()\n",
    "        axs[0, 1].yaxis.tick_right(); axs[1, 1].yaxis.tick_right()\n",
    "        axs[0, 1].grid(); axs[1, 1].grid()\n",
    "\n",
    "        axs[0, 1].set_title('Arousal')\n",
    "\n",
    "    fig.text(0.5, 0.07, 'Number of Epochs', ha='center')\n",
    "    fig.text(0.05, 0.5, 'RMSE', ha='center', va='center', rotation='vertical')\n",
    "\n",
    "    plt.savefig(f'files/results/active_learning_experiments/al_exp_batch_size_{batch_size}_learning_rate_{lr}.png')\n",
    "    plt.show()\n",
    "\n"
   ]
  },
  {
   "cell_type": "code",
   "execution_count": 78,
   "id": "1a72093f",
   "metadata": {},
   "outputs": [
    {
     "data": {
      "image/png": "[encoded data removed]",
      "text/plain": [
       "<Figure size 1152x720 with 4 Axes>"
      ]
     },
     "metadata": {
      "needs_background": "light"
     },
     "output_type": "display_data"
    }
   ],
   "source": [
    "plot_al_results(v_results, a_results, 3, 1e-06)"
   ]
  }
 ],
 "metadata": {
  "kernelspec": {
   "display_name": "ai_thesis",
   "language": "python",
   "name": "ai_thesis"
  },
  "language_info": {
   "codemirror_mode": {
    "name": "ipython",
    "version": 3
   },
   "file_extension": ".py",
   "mimetype": "text/x-python",
   "name": "python",
   "nbconvert_exporter": "python",
   "pygments_lexer": "ipython3",
   "version": "3.9.12"
  }
 },
 "nbformat": 4,
 "nbformat_minor": 5
}
