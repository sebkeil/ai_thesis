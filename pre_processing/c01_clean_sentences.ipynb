{
 "cells": [
  {
   "cell_type": "markdown",
   "id": "5757616e",
   "metadata": {},
   "source": [
    "# Notebook: Clean sentences\n",
    "\n",
    "This notebook loads in the raw Reuters sentence pool and performs some basic clean-up and filtering operations:\n",
    "\n",
    "- seperate sentences into words\n",
    "- count number of words per sentence\n",
    "- filter out sentences with less than 5 or more than 50 words (for BERT)\n",
    "- store these in a .txt file"
   ]
  },
  {
   "cell_type": "code",
   "execution_count": 1,
   "id": "ef0db107",
   "metadata": {},
   "outputs": [],
   "source": [
    "import pandas as pd\n",
    "import spacy\n",
    "import matplotlib.pyplot as plt\n",
    "import numpy as np"
   ]
  },
  {
   "cell_type": "code",
   "execution_count": 2,
   "id": "b09ab634",
   "metadata": {},
   "outputs": [],
   "source": [
    "nlp = spacy.load('en_core_web_sm')"
   ]
  },
  {
   "cell_type": "code",
   "execution_count": 3,
   "id": "0756fe66",
   "metadata": {},
   "outputs": [],
   "source": [
    "sent_df = pd.read_csv('reuters_sentence_pool.csv', index_col=0)"
   ]
  },
  {
   "cell_type": "code",
   "execution_count": 5,
   "id": "9504265d",
   "metadata": {},
   "outputs": [],
   "source": [
    "sent_df['sent_nlp'] = sent_df['sentences'].apply(nlp)"
   ]
  },
  {
   "cell_type": "code",
   "execution_count": 6,
   "id": "884040f8",
   "metadata": {},
   "outputs": [],
   "source": [
    "sent_df['sent_len'] = sent_df['sent_nlp'].apply(len)"
   ]
  },
  {
   "cell_type": "code",
   "execution_count": 8,
   "id": "04dfdcd2",
   "metadata": {},
   "outputs": [],
   "source": [
    "sent_df = sent_df[(sent_df['sent_len'] >= 5) & (sent_df['sent_len'] <= 50)]"
   ]
  },
  {
   "cell_type": "code",
   "execution_count": 12,
   "id": "5cac420c",
   "metadata": {},
   "outputs": [],
   "source": [
    "sent_df.rename(columns = {'sentences':'text'}, inplace = True)"
   ]
  },
  {
   "cell_type": "code",
   "execution_count": 13,
   "id": "1faf8bc1",
   "metadata": {},
   "outputs": [
    {
     "data": {
      "text/html": [
       "<div>\n",
       "<style scoped>\n",
       "    .dataframe tbody tr th:only-of-type {\n",
       "        vertical-align: middle;\n",
       "    }\n",
       "\n",
       "    .dataframe tbody tr th {\n",
       "        vertical-align: top;\n",
       "    }\n",
       "\n",
       "    .dataframe thead th {\n",
       "        text-align: right;\n",
       "    }\n",
       "</style>\n",
       "<table border=\"1\" class=\"dataframe\">\n",
       "  <thead>\n",
       "    <tr style=\"text-align: right;\">\n",
       "      <th></th>\n",
       "      <th>text</th>\n",
       "      <th>source</th>\n",
       "      <th>article_id</th>\n",
       "      <th>sent_nlp</th>\n",
       "      <th>sent_len</th>\n",
       "    </tr>\n",
       "  </thead>\n",
       "  <tbody>\n",
       "    <tr>\n",
       "      <th>0</th>\n",
       "      <td>Wall Street's main indexes fell on Wednesday,...</td>\n",
       "      <td>Reuters</td>\n",
       "      <td>0</td>\n",
       "      <td>( , Wall, Street, 's, main, indexes, fell, on,...</td>\n",
       "      <td>44</td>\n",
       "    </tr>\n",
       "    <tr>\n",
       "      <th>1</th>\n",
       "      <td>The techheavy Nasdaq logged a decline of over ...</td>\n",
       "      <td>Reuters</td>\n",
       "      <td>0</td>\n",
       "      <td>(The, techheavy, Nasdaq, logged, a, decline, o...</td>\n",
       "      <td>16</td>\n",
       "    </tr>\n",
       "    <tr>\n",
       "      <th>2</th>\n",
       "      <td>Minutes of the Fed's March 1516 meeting showed...</td>\n",
       "      <td>Reuters</td>\n",
       "      <td>0</td>\n",
       "      <td>(Minutes, of, the, Fed, 's, March, 1516, meeti...</td>\n",
       "      <td>28</td>\n",
       "    </tr>\n",
       "    <tr>\n",
       "      <th>3</th>\n",
       "      <td>Wall Street's main indexes already had been so...</td>\n",
       "      <td>Reuters</td>\n",
       "      <td>0</td>\n",
       "      <td>(Wall, Street, 's, main, indexes, already, had...</td>\n",
       "      <td>42</td>\n",
       "    </tr>\n",
       "    <tr>\n",
       "      <th>5</th>\n",
       "      <td>The Dow Jones Industrial Average fell 144.67 p...</td>\n",
       "      <td>Reuters</td>\n",
       "      <td>0</td>\n",
       "      <td>(The, Dow, Jones, Industrial, Average, fell, 1...</td>\n",
       "      <td>44</td>\n",
       "    </tr>\n",
       "    <tr>\n",
       "      <th>...</th>\n",
       "      <td>...</td>\n",
       "      <td>...</td>\n",
       "      <td>...</td>\n",
       "      <td>...</td>\n",
       "      <td>...</td>\n",
       "    </tr>\n",
       "    <tr>\n",
       "      <th>119827</th>\n",
       "      <td>\"They are clearly doing a good job making bran...</td>\n",
       "      <td>Reuters</td>\n",
       "      <td>17296</td>\n",
       "      <td>(\", They, are, clearly, doing, a, good, job, m...</td>\n",
       "      <td>41</td>\n",
       "    </tr>\n",
       "    <tr>\n",
       "      <th>119828</th>\n",
       "      <td>\"Operating income fell by $84 million at the A...</td>\n",
       "      <td>Reuters</td>\n",
       "      <td>17296</td>\n",
       "      <td>(\", Operating, income, fell, by, $, 84, millio...</td>\n",
       "      <td>34</td>\n",
       "    </tr>\n",
       "    <tr>\n",
       "      <th>119829</th>\n",
       "      <td>At Disney's theme parks, higher guest spending...</td>\n",
       "      <td>Reuters</td>\n",
       "      <td>17296</td>\n",
       "      <td>(At, Disney, 's, theme, parks, ,, higher, gues...</td>\n",
       "      <td>27</td>\n",
       "    </tr>\n",
       "    <tr>\n",
       "      <th>119831</th>\n",
       "      <td>The unit is expected to post an operating loss...</td>\n",
       "      <td>Reuters</td>\n",
       "      <td>17296</td>\n",
       "      <td>(The, unit, is, expected, to, post, an, operat...</td>\n",
       "      <td>34</td>\n",
       "    </tr>\n",
       "    <tr>\n",
       "      <th>119832</th>\n",
       "      <td>He said the loss will be comparable to the uni...</td>\n",
       "      <td>Reuters</td>\n",
       "      <td>17296</td>\n",
       "      <td>(He, said, the, loss, will, be, comparable, to...</td>\n",
       "      <td>23</td>\n",
       "    </tr>\n",
       "  </tbody>\n",
       "</table>\n",
       "<p>110497 rows × 5 columns</p>\n",
       "</div>"
      ],
      "text/plain": [
       "                                                     text   source  \\\n",
       "0        Wall Street's main indexes fell on Wednesday,...  Reuters   \n",
       "1       The techheavy Nasdaq logged a decline of over ...  Reuters   \n",
       "2       Minutes of the Fed's March 1516 meeting showed...  Reuters   \n",
       "3       Wall Street's main indexes already had been so...  Reuters   \n",
       "5       The Dow Jones Industrial Average fell 144.67 p...  Reuters   \n",
       "...                                                   ...      ...   \n",
       "119827  \"They are clearly doing a good job making bran...  Reuters   \n",
       "119828  \"Operating income fell by $84 million at the A...  Reuters   \n",
       "119829  At Disney's theme parks, higher guest spending...  Reuters   \n",
       "119831  The unit is expected to post an operating loss...  Reuters   \n",
       "119832  He said the loss will be comparable to the uni...  Reuters   \n",
       "\n",
       "        article_id                                           sent_nlp  \\\n",
       "0                0  ( , Wall, Street, 's, main, indexes, fell, on,...   \n",
       "1                0  (The, techheavy, Nasdaq, logged, a, decline, o...   \n",
       "2                0  (Minutes, of, the, Fed, 's, March, 1516, meeti...   \n",
       "3                0  (Wall, Street, 's, main, indexes, already, had...   \n",
       "5                0  (The, Dow, Jones, Industrial, Average, fell, 1...   \n",
       "...            ...                                                ...   \n",
       "119827       17296  (\", They, are, clearly, doing, a, good, job, m...   \n",
       "119828       17296  (\", Operating, income, fell, by, $, 84, millio...   \n",
       "119829       17296  (At, Disney, 's, theme, parks, ,, higher, gues...   \n",
       "119831       17296  (The, unit, is, expected, to, post, an, operat...   \n",
       "119832       17296  (He, said, the, loss, will, be, comparable, to...   \n",
       "\n",
       "        sent_len  \n",
       "0             44  \n",
       "1             16  \n",
       "2             28  \n",
       "3             42  \n",
       "5             44  \n",
       "...          ...  \n",
       "119827        41  \n",
       "119828        34  \n",
       "119829        27  \n",
       "119831        34  \n",
       "119832        23  \n",
       "\n",
       "[110497 rows x 5 columns]"
      ]
     },
     "execution_count": 13,
     "metadata": {},
     "output_type": "execute_result"
    }
   ],
   "source": [
    "sent_df"
   ]
  },
  {
   "cell_type": "code",
   "execution_count": 20,
   "id": "21faf5f5",
   "metadata": {},
   "outputs": [],
   "source": [
    "sent_df.to_json('reuters_sentences.json', default_handler=str, orient='table')"
   ]
  },
  {
   "cell_type": "code",
   "execution_count": 27,
   "id": "55195ff0",
   "metadata": {},
   "outputs": [],
   "source": [
    "sent_df['text'].to_csv('reuters_sentences.txt', index=False, header=None, sep='\\n')"
   ]
  }
 ],
 "metadata": {
  "kernelspec": {
   "display_name": "Python 3 (ipykernel)",
   "language": "python",
   "name": "python3"
  },
  "language_info": {
   "codemirror_mode": {
    "name": "ipython",
    "version": 3
   },
   "file_extension": ".py",
   "mimetype": "text/x-python",
   "name": "python",
   "nbconvert_exporter": "python",
   "pygments_lexer": "ipython3",
   "version": "3.9.7"
  }
 },
 "nbformat": 4,
 "nbformat_minor": 5
}
