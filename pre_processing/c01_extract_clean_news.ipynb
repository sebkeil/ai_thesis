{
 "cells": [
  {
   "cell_type": "markdown",
   "id": "83724961",
   "metadata": {},
   "source": [
    "#### Installations and imports"
   ]
  },
  {
   "cell_type": "code",
   "execution_count": 1,
   "id": "1515f3eb",
   "metadata": {},
   "outputs": [],
   "source": [
    "#!pip install spacy"
   ]
  },
  {
   "cell_type": "code",
   "execution_count": 2,
   "id": "3238dddc",
   "metadata": {},
   "outputs": [],
   "source": [
    "#!python -m spacy download en_core_web_sm\n",
    "# !python -m spacy download en_core_web_lg"
   ]
  },
  {
   "cell_type": "code",
   "execution_count": 1,
   "id": "3f0cbc4a",
   "metadata": {},
   "outputs": [],
   "source": [
    "import pandas as pd\n",
    "import nltk\n",
    "import spacy\n",
    "import csv"
   ]
  },
  {
   "cell_type": "code",
   "execution_count": 2,
   "id": "d0e02fea",
   "metadata": {},
   "outputs": [],
   "source": [
    "#nlp = spacy.load('en_core_web_sm')\n",
    "nlp = spacy.load('en_core_web_lg')"
   ]
  },
  {
   "cell_type": "code",
   "execution_count": 13,
   "id": "678bd32f",
   "metadata": {},
   "outputs": [],
   "source": [
    "news = pd.read_csv('../files/sentences/c01_all_articles_raw.csv', index_col=0)"
   ]
  },
  {
   "cell_type": "code",
   "execution_count": 14,
   "id": "c9ed5fce",
   "metadata": {},
   "outputs": [
    {
     "data": {
      "text/html": [
       "<div>\n",
       "<style scoped>\n",
       "    .dataframe tbody tr th:only-of-type {\n",
       "        vertical-align: middle;\n",
       "    }\n",
       "\n",
       "    .dataframe tbody tr th {\n",
       "        vertical-align: top;\n",
       "    }\n",
       "\n",
       "    .dataframe thead th {\n",
       "        text-align: right;\n",
       "    }\n",
       "</style>\n",
       "<table border=\"1\" class=\"dataframe\">\n",
       "  <thead>\n",
       "    <tr style=\"text-align: right;\">\n",
       "      <th></th>\n",
       "      <th>url</th>\n",
       "      <th>headline</th>\n",
       "      <th>raw_article</th>\n",
       "    </tr>\n",
       "  </thead>\n",
       "  <tbody>\n",
       "    <tr>\n",
       "      <th>0</th>\n",
       "      <td>https://www.investing.com/news/stock-market-ne...</td>\n",
       "      <td>Wall Street ends lower after Fed minutes</td>\n",
       "      <td>By Lewis Krauskopf, Bansari Mayur Kamdar and P...</td>\n",
       "    </tr>\n",
       "    <tr>\n",
       "      <th>1</th>\n",
       "      <td>https://www.investing.com/news/stock-market-ne...</td>\n",
       "      <td>Aeropostale shares dip 5%, amid plans to elimi...</td>\n",
       "      <td>Investing.com --  Aeropostale  Inc (N:ARO), a ...</td>\n",
       "    </tr>\n",
       "    <tr>\n",
       "      <th>2</th>\n",
       "      <td>https://www.investing.com/news/stock-market-ne...</td>\n",
       "      <td>MetLife plans to split off U.S. retail busines...</td>\n",
       "      <td>(Reuters) - MetLife Inc (N:MET), the largest U...</td>\n",
       "    </tr>\n",
       "    <tr>\n",
       "      <th>3</th>\n",
       "      <td>https://www.investing.com/news/stock-market-ne...</td>\n",
       "      <td>Shares in CSX fall 2% after revenue miss in fo...</td>\n",
       "      <td>Investing.com -- Shares in CSX Corporation (O:...</td>\n",
       "    </tr>\n",
       "    <tr>\n",
       "      <th>4</th>\n",
       "      <td>https://www.investing.com/news/stock-market-ne...</td>\n",
       "      <td>Shire says internal synergy goals from Baxalta...</td>\n",
       "      <td>(Reuters) - The chief executive of rare diseas...</td>\n",
       "    </tr>\n",
       "    <tr>\n",
       "      <th>...</th>\n",
       "      <td>...</td>\n",
       "      <td>...</td>\n",
       "      <td>...</td>\n",
       "    </tr>\n",
       "    <tr>\n",
       "      <th>95</th>\n",
       "      <td>https://www.investing.com/news/stock-market-ne...</td>\n",
       "      <td>Wall Street loses gains as health stocks, oil ...</td>\n",
       "      <td>By Abhiram Nandakumar(Reuters) - Wall Street g...</td>\n",
       "    </tr>\n",
       "    <tr>\n",
       "      <th>96</th>\n",
       "      <td>https://www.investing.com/news/stock-market-ne...</td>\n",
       "      <td>Greece stocks lower at close of trade; Athens ...</td>\n",
       "      <td>Investing.com – Greece stocks were lower after...</td>\n",
       "    </tr>\n",
       "    <tr>\n",
       "      <th>97</th>\n",
       "      <td>https://www.investing.com/news/stock-market-ne...</td>\n",
       "      <td>Israel stocks higher at close of trade; TA 25 ...</td>\n",
       "      <td>Investing.com – Israel stocks were higher afte...</td>\n",
       "    </tr>\n",
       "    <tr>\n",
       "      <th>98</th>\n",
       "      <td>https://www.investing.com/news/stock-market-ne...</td>\n",
       "      <td>Detroit's auto industry is changed, but not as...</td>\n",
       "      <td>By David Shepardson and Paul IngrassiaDETROIT ...</td>\n",
       "    </tr>\n",
       "    <tr>\n",
       "      <th>99</th>\n",
       "      <td>https://www.investing.com/news/stock-market-ne...</td>\n",
       "      <td>Saudi Arabia stocks higher at close of trade; ...</td>\n",
       "      <td>Investing.com – Saudi Arabia stocks were highe...</td>\n",
       "    </tr>\n",
       "  </tbody>\n",
       "</table>\n",
       "<p>100 rows × 3 columns</p>\n",
       "</div>"
      ],
      "text/plain": [
       "                                                  url  \\\n",
       "0   https://www.investing.com/news/stock-market-ne...   \n",
       "1   https://www.investing.com/news/stock-market-ne...   \n",
       "2   https://www.investing.com/news/stock-market-ne...   \n",
       "3   https://www.investing.com/news/stock-market-ne...   \n",
       "4   https://www.investing.com/news/stock-market-ne...   \n",
       "..                                                ...   \n",
       "95  https://www.investing.com/news/stock-market-ne...   \n",
       "96  https://www.investing.com/news/stock-market-ne...   \n",
       "97  https://www.investing.com/news/stock-market-ne...   \n",
       "98  https://www.investing.com/news/stock-market-ne...   \n",
       "99  https://www.investing.com/news/stock-market-ne...   \n",
       "\n",
       "                                             headline  \\\n",
       "0            Wall Street ends lower after Fed minutes   \n",
       "1   Aeropostale shares dip 5%, amid plans to elimi...   \n",
       "2   MetLife plans to split off U.S. retail busines...   \n",
       "3   Shares in CSX fall 2% after revenue miss in fo...   \n",
       "4   Shire says internal synergy goals from Baxalta...   \n",
       "..                                                ...   \n",
       "95  Wall Street loses gains as health stocks, oil ...   \n",
       "96  Greece stocks lower at close of trade; Athens ...   \n",
       "97  Israel stocks higher at close of trade; TA 25 ...   \n",
       "98  Detroit's auto industry is changed, but not as...   \n",
       "99  Saudi Arabia stocks higher at close of trade; ...   \n",
       "\n",
       "                                          raw_article  \n",
       "0   By Lewis Krauskopf, Bansari Mayur Kamdar and P...  \n",
       "1   Investing.com --  Aeropostale  Inc (N:ARO), a ...  \n",
       "2   (Reuters) - MetLife Inc (N:MET), the largest U...  \n",
       "3   Investing.com -- Shares in CSX Corporation (O:...  \n",
       "4   (Reuters) - The chief executive of rare diseas...  \n",
       "..                                                ...  \n",
       "95  By Abhiram Nandakumar(Reuters) - Wall Street g...  \n",
       "96  Investing.com – Greece stocks were lower after...  \n",
       "97  Investing.com – Israel stocks were higher afte...  \n",
       "98  By David Shepardson and Paul IngrassiaDETROIT ...  \n",
       "99  Investing.com – Saudi Arabia stocks were highe...  \n",
       "\n",
       "[100 rows x 3 columns]"
      ]
     },
     "execution_count": 14,
     "metadata": {},
     "output_type": "execute_result"
    }
   ],
   "source": [
    "news.head(100)"
   ]
  },
  {
   "cell_type": "code",
   "execution_count": 15,
   "id": "bc51f00e",
   "metadata": {},
   "outputs": [
    {
     "name": "stdout",
     "output_type": "stream",
     "text": [
      "20856 articles\n"
     ]
    }
   ],
   "source": [
    "print(len(news), 'articles')"
   ]
  },
  {
   "cell_type": "code",
   "execution_count": 16,
   "id": "dc58e7e6",
   "metadata": {},
   "outputs": [
    {
     "data": {
      "text/plain": [
       "url               0\n",
       "headline          0\n",
       "raw_article    3372\n",
       "dtype: int64"
      ]
     },
     "execution_count": 16,
     "metadata": {},
     "output_type": "execute_result"
    }
   ],
   "source": [
    "# inspect missing values\n",
    "\n",
    "news.isna().sum()"
   ]
  },
  {
   "cell_type": "code",
   "execution_count": 17,
   "id": "b5e3b480",
   "metadata": {},
   "outputs": [],
   "source": [
    "# drop missing values\n",
    "\n",
    "news = news.dropna()"
   ]
  },
  {
   "cell_type": "markdown",
   "id": "2487ba3d",
   "metadata": {},
   "source": [
    "#### Some generic cleaning of text..."
   ]
  },
  {
   "cell_type": "code",
   "execution_count": 18,
   "id": "a7212896",
   "metadata": {},
   "outputs": [],
   "source": [
    "def clean_up(raw_article):\n",
    "    if type(raw_article) == \"str\":\n",
    "        raw_article = raw_article.replace(\"–\", \"-\")   # replace the longer slash in investing.com articles\n",
    "    return raw_article"
   ]
  },
  {
   "cell_type": "code",
   "execution_count": 19,
   "id": "62ca3894",
   "metadata": {},
   "outputs": [],
   "source": [
    "news['raw_article'] = news['raw_article'].apply(clean_up)"
   ]
  },
  {
   "cell_type": "markdown",
   "id": "be8fc057",
   "metadata": {},
   "source": [
    "#### Extract Source (e.g., Reuters, Investing.com, IBT ...)"
   ]
  },
  {
   "cell_type": "code",
   "execution_count": 20,
   "id": "173bd73d",
   "metadata": {},
   "outputs": [],
   "source": [
    "def extract_source(raw_article):\n",
    "    first_sent = raw_article.split('-')[0]\n",
    "    author = \"Unknown\"\n",
    "    if \"Reuters\" in first_sent:\n",
    "        author = \"Reuters\"\n",
    "    elif \"Investing.com\" in first_sent:\n",
    "        author = \"Investing.com\"\n",
    "    elif \"IBT\" in first_sent:\n",
    "        author = \"IBT\"\n",
    "    return author"
   ]
  },
  {
   "cell_type": "code",
   "execution_count": 21,
   "id": "02f8f42a",
   "metadata": {},
   "outputs": [],
   "source": [
    "news['source'] = news['raw_article'].apply(extract_source)"
   ]
  },
  {
   "cell_type": "code",
   "execution_count": 22,
   "id": "a6b40f59",
   "metadata": {},
   "outputs": [
    {
     "data": {
      "text/plain": [
       "Investing.com    9348\n",
       "Reuters          7043\n",
       "IBT               922\n",
       "Unknown           171\n",
       "Name: source, dtype: int64"
      ]
     },
     "execution_count": 22,
     "metadata": {},
     "output_type": "execute_result"
    }
   ],
   "source": [
    "news['source'].value_counts()"
   ]
  },
  {
   "cell_type": "markdown",
   "id": "fe56eb6c",
   "metadata": {},
   "source": [
    "#### Seperate article string"
   ]
  },
  {
   "cell_type": "code",
   "execution_count": 23,
   "id": "e6b7259a",
   "metadata": {},
   "outputs": [],
   "source": [
    "def extract_article(raw_article):\n",
    "    return \"\".join(raw_article.split('-')[1:])"
   ]
  },
  {
   "cell_type": "code",
   "execution_count": 24,
   "id": "b64efe95",
   "metadata": {},
   "outputs": [],
   "source": [
    "news['article'] = news['raw_article'].apply(extract_article)"
   ]
  },
  {
   "cell_type": "code",
   "execution_count": 25,
   "id": "9d5ce51d",
   "metadata": {},
   "outputs": [],
   "source": [
    "# filter out only reuters articles\n",
    "\n",
    "news = news[news.source == 'Reuters']"
   ]
  },
  {
   "cell_type": "code",
   "execution_count": 26,
   "id": "9cd236b7",
   "metadata": {},
   "outputs": [],
   "source": [
    "news['doc'] = news['article'].apply(nlp)"
   ]
  },
  {
   "cell_type": "code",
   "execution_count": 27,
   "id": "102f8acc",
   "metadata": {},
   "outputs": [],
   "source": [
    "def splitup_sentences(doc):\n",
    "    return list(doc.sents)"
   ]
  },
  {
   "cell_type": "code",
   "execution_count": 28,
   "id": "0b213b03",
   "metadata": {},
   "outputs": [],
   "source": [
    "news['sentences'] = news['doc'].apply(splitup_sentences)"
   ]
  },
  {
   "cell_type": "markdown",
   "id": "f143cd83",
   "metadata": {},
   "source": [
    "#### Store sentences in their own dataset"
   ]
  },
  {
   "cell_type": "code",
   "execution_count": 29,
   "id": "2db0e881",
   "metadata": {},
   "outputs": [],
   "source": [
    "sent_dict = {}\n",
    "\n",
    "sent_dict['sentences'] = []\n",
    "sent_dict['source'] = []\n",
    "sent_dict['article_id'] = []\n",
    "\n",
    "for i, row in news.iterrows():\n",
    "    for sentence in row['sentences']:\n",
    "        if len(sentence) >= 5 and len(sentence) <= 50:\n",
    "            sent_dict['sentences'].append(str(sentence))\n",
    "            sent_dict['source'].append(row['source'])\n",
    "            sent_dict['article_id'].append(i)"
   ]
  },
  {
   "cell_type": "code",
   "execution_count": 30,
   "id": "5e58c6b3",
   "metadata": {},
   "outputs": [],
   "source": [
    "sent_df = pd.DataFrame(sent_dict)"
   ]
  },
  {
   "cell_type": "code",
   "execution_count": 31,
   "id": "93b8bab7",
   "metadata": {},
   "outputs": [
    {
     "data": {
      "text/plain": [
       "50    The state said VW's proposed fix was \"incomple...\n",
       "51    It also said the proposal could not be impleme...\n",
       "52    California sent VW a confidential letter offer...\n",
       "53    The state said it will continue its investigat...\n",
       "54    then, Volkswagen has had constructive discussi...\n",
       "55    VW has admitted using software that circumvent...\n",
       "56    The state did not assess any immediate penalti...\n",
       "57    VW CEO Matthias Muller is meeting with U.S. En...\n",
       "58    EPA said in a statement it agrees with Califor...\n",
       "59     EPA has conveyed this to the company previously.\n",
       "60    Connecticut Attorney General George Jepsen cal...\n",
       "61    \"The time for empty apologies and hollow pledg...\n",
       "62    \"VW officials have expressed optimism they wil...\n",
       "63    They face a separate Feb. 2 deadline to submit...\n",
       "64    Separately, Tennessee Gov. Bill Haslam said he...\n",
       "65    \"We obviously have a keen interest in getting ...\n",
       "66    The company said on Tuesday the two units will...\n",
       "67    Norfolk said the move will affect management a...\n",
       "68    The company also said it was idling parts of i...\n",
       "69    Norfolk has rejected Canadian Pacific Railway'...\n",
       "70      Aetna Inc  (N:AET) Chief Executive Mark Bert...\n",
       "71    \"So far, we have nothing to believe it will be...\n",
       "72    The two proposed mergers would be an unprecede...\n",
       "73    Insurers say the combinations will give them g...\n",
       "74    Aetna said it expects the regulators to wrap u...\n",
       "75    Aetna and Humana sell health plans for individ...\n",
       "76    Humana's operations does not overlap with Aetn...\n",
       "77    U.S. antitrust regulators have recently blocke...\n",
       "78    Reuters reported on Monday that about 15 state...\n",
       "79    The government's joint review of both deals ha...\n",
       "80    we were to look at 2016 we have two things to do.\n",
       "81    Deliver our results, and close our deal,\" he s...\n",
       "82     General Motors Co (N:GM) should pay for conce...\n",
       "83    \"This case is not just about an accident that ...\n",
       "84    \"This is about the conduct of a company over a...\n",
       "85    \"Key GM employees knew about the problem for m...\n",
       "86    GM's failure to conduct a safety recall until ...\n",
       "87    Scheuer's case, in which he is seeking unspeci...\n",
       "88    Verdicts in the bellwether trials are not bind...\n",
       "89    The switch has already been linked to 124 deat...\n",
       "90    GM has already agreed to pay roughly $2 billio...\n",
       "91    The air bags failed to deploy and protect Sche...\n",
       "92    While acknowledging \"mistakes and errors in ju...\n",
       "93    The Ion's air bags were not designed to go off...\n",
       "94    He also said Scheuer had a history of back pro...\n",
       "95    There are several hundred lawsuits remaining o...\n",
       "96     General Motors Co (N:GM) said on Tuesday it w...\n",
       "97    The Detroit automaker showed off its 2017 Acad...\n",
       "98    \"Too many children are inadvertently left behi...\n",
       "99    It's hard to fathom but it does happen, leadin...\n",
       "Name: sentences, dtype: object"
      ]
     },
     "execution_count": 31,
     "metadata": {},
     "output_type": "execute_result"
    }
   ],
   "source": [
    "sent_df['sentences'][50:100]"
   ]
  },
  {
   "cell_type": "code",
   "execution_count": 32,
   "id": "3d1d5d6f",
   "metadata": {},
   "outputs": [],
   "source": [
    "# clean up some general noise\n",
    "\n",
    "def clean_noisy_sents(sentence):\n",
    "    sentence.replace(\"(Reuters)\", \"\")\n",
    "    sentence.replace(\"(, Reuters, )\", \"\")\n",
    "    sentence.replace('\\\"\\\"\\\"', r'\\\"')\n",
    "    sentence.replace('\\\"\\\"', r'\\\"')\n",
    "    sentence.replace(\",,\", \",\")\n",
    "    sentence.replace(\",,,\", \",\")\n",
    "    sentence.replace(\",  ,\", \",\")\n",
    "    sentence.strip()\n",
    "    return sentence"
   ]
  },
  {
   "cell_type": "code",
   "execution_count": 33,
   "id": "d8780980",
   "metadata": {},
   "outputs": [
    {
     "data": {
      "text/plain": [
       "0          Wall Street's main indexes fell on Wednesday,...\n",
       "1         The techheavy Nasdaq logged a decline of over ...\n",
       "2         Minutes of the Fed's March 1516 meeting showed...\n",
       "3         Wall Street's main indexes already had been so...\n",
       "4         The Dow Jones Industrial Average fell 144.67 p...\n",
       "                                ...                        \n",
       "110201    \"They are clearly doing a good job making bran...\n",
       "110202    \"Operating income fell by $84 million at the A...\n",
       "110203    At Disney's theme parks, higher guest spending...\n",
       "110204    The unit is expected to post an operating loss...\n",
       "110205    He said the loss will be comparable to the uni...\n",
       "Name: sentences, Length: 110206, dtype: object"
      ]
     },
     "execution_count": 33,
     "metadata": {},
     "output_type": "execute_result"
    }
   ],
   "source": [
    "sent_df['sentences'].apply(clean_noisy_sents)"
   ]
  },
  {
   "cell_type": "code",
   "execution_count": 34,
   "id": "f0b65fb7",
   "metadata": {},
   "outputs": [
    {
     "data": {
      "text/html": [
       "<div>\n",
       "<style scoped>\n",
       "    .dataframe tbody tr th:only-of-type {\n",
       "        vertical-align: middle;\n",
       "    }\n",
       "\n",
       "    .dataframe tbody tr th {\n",
       "        vertical-align: top;\n",
       "    }\n",
       "\n",
       "    .dataframe thead th {\n",
       "        text-align: right;\n",
       "    }\n",
       "</style>\n",
       "<table border=\"1\" class=\"dataframe\">\n",
       "  <thead>\n",
       "    <tr style=\"text-align: right;\">\n",
       "      <th></th>\n",
       "      <th>sentences</th>\n",
       "      <th>source</th>\n",
       "      <th>article_id</th>\n",
       "    </tr>\n",
       "  </thead>\n",
       "  <tbody>\n",
       "    <tr>\n",
       "      <th>0</th>\n",
       "      <td>Wall Street's main indexes fell on Wednesday,...</td>\n",
       "      <td>Reuters</td>\n",
       "      <td>0</td>\n",
       "    </tr>\n",
       "    <tr>\n",
       "      <th>1</th>\n",
       "      <td>The techheavy Nasdaq logged a decline of over ...</td>\n",
       "      <td>Reuters</td>\n",
       "      <td>0</td>\n",
       "    </tr>\n",
       "    <tr>\n",
       "      <th>2</th>\n",
       "      <td>Minutes of the Fed's March 1516 meeting showed...</td>\n",
       "      <td>Reuters</td>\n",
       "      <td>0</td>\n",
       "    </tr>\n",
       "    <tr>\n",
       "      <th>3</th>\n",
       "      <td>Wall Street's main indexes already had been so...</td>\n",
       "      <td>Reuters</td>\n",
       "      <td>0</td>\n",
       "    </tr>\n",
       "    <tr>\n",
       "      <th>4</th>\n",
       "      <td>The Dow Jones Industrial Average fell 144.67 p...</td>\n",
       "      <td>Reuters</td>\n",
       "      <td>0</td>\n",
       "    </tr>\n",
       "  </tbody>\n",
       "</table>\n",
       "</div>"
      ],
      "text/plain": [
       "                                           sentences   source  article_id\n",
       "0   Wall Street's main indexes fell on Wednesday,...  Reuters           0\n",
       "1  The techheavy Nasdaq logged a decline of over ...  Reuters           0\n",
       "2  Minutes of the Fed's March 1516 meeting showed...  Reuters           0\n",
       "3  Wall Street's main indexes already had been so...  Reuters           0\n",
       "4  The Dow Jones Industrial Average fell 144.67 p...  Reuters           0"
      ]
     },
     "execution_count": 34,
     "metadata": {},
     "output_type": "execute_result"
    }
   ],
   "source": [
    "sent_df.head(5)"
   ]
  },
  {
   "cell_type": "code",
   "execution_count": 35,
   "id": "bf23ba3b",
   "metadata": {},
   "outputs": [
    {
     "data": {
      "text/plain": [
       "110206"
      ]
     },
     "execution_count": 35,
     "metadata": {},
     "output_type": "execute_result"
    }
   ],
   "source": [
    "len(sent_df)"
   ]
  },
  {
   "cell_type": "code",
   "execution_count": 38,
   "id": "23c37bf5",
   "metadata": {},
   "outputs": [],
   "source": [
    "# save the extracted sentences dataframe\n",
    "\n",
    "sent_df.to_csv('../files/sentences/c02_reuters_sentence_pool.csv')"
   ]
  },
  {
   "cell_type": "markdown",
   "id": "510ef14c",
   "metadata": {},
   "source": [
    "### Sampling\n",
    "\n",
    "- toDO: make this into a notebook for itself"
   ]
  },
  {
   "cell_type": "code",
   "execution_count": 30,
   "id": "e71cc81b",
   "metadata": {},
   "outputs": [],
   "source": [
    "# save a subset of 200 instances for experiments\n",
    "\n",
    "sent_sample = sent_df.sample(n=200, random_state=42)"
   ]
  },
  {
   "cell_type": "code",
   "execution_count": 31,
   "id": "6814991d",
   "metadata": {},
   "outputs": [
    {
     "data": {
      "text/html": [
       "<div>\n",
       "<style scoped>\n",
       "    .dataframe tbody tr th:only-of-type {\n",
       "        vertical-align: middle;\n",
       "    }\n",
       "\n",
       "    .dataframe tbody tr th {\n",
       "        vertical-align: top;\n",
       "    }\n",
       "\n",
       "    .dataframe thead th {\n",
       "        text-align: right;\n",
       "    }\n",
       "</style>\n",
       "<table border=\"1\" class=\"dataframe\">\n",
       "  <thead>\n",
       "    <tr style=\"text-align: right;\">\n",
       "      <th></th>\n",
       "      <th>sentences</th>\n",
       "      <th>source</th>\n",
       "      <th>article_id</th>\n",
       "    </tr>\n",
       "  </thead>\n",
       "  <tbody>\n",
       "    <tr>\n",
       "      <th>36565</th>\n",
       "      <td>WPP has made a big bet on data with its Kantar...</td>\n",
       "      <td>Reuters</td>\n",
       "      <td>7986</td>\n",
       "    </tr>\n",
       "    <tr>\n",
       "      <th>5061</th>\n",
       "      <td>There is no indication that Fiat Chrysler inte...</td>\n",
       "      <td>Reuters</td>\n",
       "      <td>1130</td>\n",
       "    </tr>\n",
       "    <tr>\n",
       "      <th>43041</th>\n",
       "      <td>As a group, their capex plans are down by $21....</td>\n",
       "      <td>Reuters</td>\n",
       "      <td>9479</td>\n",
       "    </tr>\n",
       "    <tr>\n",
       "      <th>98691</th>\n",
       "      <td>This not only costs Microsoft in lost revenue,...</td>\n",
       "      <td>Reuters</td>\n",
       "      <td>15269</td>\n",
       "    </tr>\n",
       "    <tr>\n",
       "      <th>92439</th>\n",
       "      <td>\"We think the 801 multiplier is disingenuous, ...</td>\n",
       "      <td>Reuters</td>\n",
       "      <td>14762</td>\n",
       "    </tr>\n",
       "  </tbody>\n",
       "</table>\n",
       "</div>"
      ],
      "text/plain": [
       "                                               sentences   source  article_id\n",
       "36565  WPP has made a big bet on data with its Kantar...  Reuters        7986\n",
       "5061   There is no indication that Fiat Chrysler inte...  Reuters        1130\n",
       "43041  As a group, their capex plans are down by $21....  Reuters        9479\n",
       "98691  This not only costs Microsoft in lost revenue,...  Reuters       15269\n",
       "92439  \"We think the 801 multiplier is disingenuous, ...  Reuters       14762"
      ]
     },
     "execution_count": 31,
     "metadata": {},
     "output_type": "execute_result"
    }
   ],
   "source": [
    "sent_sample.head()"
   ]
  },
  {
   "cell_type": "code",
   "execution_count": 32,
   "id": "55b71d3b",
   "metadata": {},
   "outputs": [],
   "source": [
    "#sent_sample['sentences'].to_csv('reuters_sample_03.txt', index=False, header=None, sep='\\n', quoting=csv.QUOTE_NONE, quotechar=\"\",  escapechar=\"\")"
   ]
  },
  {
   "cell_type": "code",
   "execution_count": 33,
   "id": "3e4529ce",
   "metadata": {},
   "outputs": [],
   "source": [
    "# save sample to csv file\n",
    "\n",
    "sent_sample.to_csv('reuters_sample200.csv')"
   ]
  },
  {
   "cell_type": "code",
   "execution_count": 34,
   "id": "b46ab087",
   "metadata": {},
   "outputs": [
    {
     "data": {
      "text/plain": [
       "110206"
      ]
     },
     "execution_count": 34,
     "metadata": {},
     "output_type": "execute_result"
    }
   ],
   "source": [
    "len(sent_df)"
   ]
  },
  {
   "cell_type": "code",
   "execution_count": 35,
   "id": "3f80c69f",
   "metadata": {},
   "outputs": [],
   "source": [
    "# take previous sample out of the database\n",
    "sent_df2 = sent_df.drop(sent_sample.index)"
   ]
  },
  {
   "cell_type": "code",
   "execution_count": 36,
   "id": "c7f1f597",
   "metadata": {},
   "outputs": [],
   "source": [
    "# get a new sample\n",
    "\n",
    "sent_sample2 = sent_df2.sample(n=800, random_state=42)"
   ]
  },
  {
   "cell_type": "code",
   "execution_count": 37,
   "id": "574e8cf9",
   "metadata": {},
   "outputs": [],
   "source": [
    "sent_sample2.to_csv('reuters_sample800_r2.csv')"
   ]
  }
 ],
 "metadata": {
  "kernelspec": {
   "display_name": "Python 3 (ipykernel)",
   "language": "python",
   "name": "python3"
  },
  "language_info": {
   "codemirror_mode": {
    "name": "ipython",
    "version": 3
   },
   "file_extension": ".py",
   "mimetype": "text/x-python",
   "name": "python",
   "nbconvert_exporter": "python",
   "pygments_lexer": "ipython3",
   "version": "3.9.7"
  }
 },
 "nbformat": 4,
 "nbformat_minor": 5
}
