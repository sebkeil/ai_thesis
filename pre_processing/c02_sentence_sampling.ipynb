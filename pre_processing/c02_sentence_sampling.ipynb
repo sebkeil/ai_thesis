{
 "cells": [
  {
   "cell_type": "code",
   "execution_count": 1,
   "id": "32ca18f6",
   "metadata": {},
   "outputs": [],
   "source": [
    "import pandas as pd"
   ]
  },
  {
   "cell_type": "code",
   "execution_count": 2,
   "id": "f10ee17a",
   "metadata": {},
   "outputs": [],
   "source": [
    "sent_df = pd.read_csv('../files/sentences/c02_reuters_sentence_pool.csv')"
   ]
  },
  {
   "cell_type": "code",
   "execution_count": 3,
   "id": "ff0bdb4b",
   "metadata": {},
   "outputs": [],
   "source": [
    "RANDOM_STATE = 42"
   ]
  },
  {
   "cell_type": "markdown",
   "id": "f4bcc67c",
   "metadata": {},
   "source": [
    "# Sample 01: 200 instances (randomly chosen)"
   ]
  },
  {
   "cell_type": "code",
   "execution_count": 4,
   "id": "06221675",
   "metadata": {},
   "outputs": [],
   "source": [
    "# save a subset of 200 instances for experiments\n",
    "\n",
    "sent_sample = sent_df.sample(n=200, random_state=RANDOM_STATE)"
   ]
  },
  {
   "cell_type": "code",
   "execution_count": 5,
   "id": "8b96c384",
   "metadata": {},
   "outputs": [
    {
     "data": {
      "text/html": [
       "<div>\n",
       "<style scoped>\n",
       "    .dataframe tbody tr th:only-of-type {\n",
       "        vertical-align: middle;\n",
       "    }\n",
       "\n",
       "    .dataframe tbody tr th {\n",
       "        vertical-align: top;\n",
       "    }\n",
       "\n",
       "    .dataframe thead th {\n",
       "        text-align: right;\n",
       "    }\n",
       "</style>\n",
       "<table border=\"1\" class=\"dataframe\">\n",
       "  <thead>\n",
       "    <tr style=\"text-align: right;\">\n",
       "      <th></th>\n",
       "      <th>Unnamed: 0</th>\n",
       "      <th>sentences</th>\n",
       "      <th>source</th>\n",
       "      <th>article_id</th>\n",
       "    </tr>\n",
       "  </thead>\n",
       "  <tbody>\n",
       "    <tr>\n",
       "      <th>36565</th>\n",
       "      <td>36565</td>\n",
       "      <td>WPP has made a big bet on data with its Kantar...</td>\n",
       "      <td>Reuters</td>\n",
       "      <td>7986</td>\n",
       "    </tr>\n",
       "    <tr>\n",
       "      <th>5061</th>\n",
       "      <td>5061</td>\n",
       "      <td>There is no indication that Fiat Chrysler inte...</td>\n",
       "      <td>Reuters</td>\n",
       "      <td>1130</td>\n",
       "    </tr>\n",
       "    <tr>\n",
       "      <th>43041</th>\n",
       "      <td>43041</td>\n",
       "      <td>As a group, their capex plans are down by $21....</td>\n",
       "      <td>Reuters</td>\n",
       "      <td>9479</td>\n",
       "    </tr>\n",
       "    <tr>\n",
       "      <th>98691</th>\n",
       "      <td>98691</td>\n",
       "      <td>This not only costs Microsoft in lost revenue,...</td>\n",
       "      <td>Reuters</td>\n",
       "      <td>15269</td>\n",
       "    </tr>\n",
       "    <tr>\n",
       "      <th>92439</th>\n",
       "      <td>92439</td>\n",
       "      <td>\"We think the 801 multiplier is disingenuous, ...</td>\n",
       "      <td>Reuters</td>\n",
       "      <td>14762</td>\n",
       "    </tr>\n",
       "  </tbody>\n",
       "</table>\n",
       "</div>"
      ],
      "text/plain": [
       "       Unnamed: 0                                          sentences   source  \\\n",
       "36565       36565  WPP has made a big bet on data with its Kantar...  Reuters   \n",
       "5061         5061  There is no indication that Fiat Chrysler inte...  Reuters   \n",
       "43041       43041  As a group, their capex plans are down by $21....  Reuters   \n",
       "98691       98691  This not only costs Microsoft in lost revenue,...  Reuters   \n",
       "92439       92439  \"We think the 801 multiplier is disingenuous, ...  Reuters   \n",
       "\n",
       "       article_id  \n",
       "36565        7986  \n",
       "5061         1130  \n",
       "43041        9479  \n",
       "98691       15269  \n",
       "92439       14762  "
      ]
     },
     "execution_count": 5,
     "metadata": {},
     "output_type": "execute_result"
    }
   ],
   "source": [
    "sent_sample.head()"
   ]
  },
  {
   "cell_type": "code",
   "execution_count": 6,
   "id": "3c2c563e",
   "metadata": {},
   "outputs": [],
   "source": [
    "# save sample to csv file\n",
    "\n",
    "sent_sample.to_csv('../files/sentences/samples/s01_reuters_sample200.csv')"
   ]
  },
  {
   "cell_type": "code",
   "execution_count": 7,
   "id": "eadeb45c",
   "metadata": {},
   "outputs": [],
   "source": [
    "# take previous sample out of the database\n",
    "sent_df = sent_df.drop(sent_sample.index)"
   ]
  },
  {
   "cell_type": "markdown",
   "id": "b3b10d52",
   "metadata": {},
   "source": [
    "# Sample 02: 800 instances (randomly chosen)"
   ]
  },
  {
   "cell_type": "code",
   "execution_count": 8,
   "id": "117a868a",
   "metadata": {},
   "outputs": [],
   "source": [
    "# get a new sample\n",
    "\n",
    "sent_sample2 = sent_df.sample(n=800, random_state=RANDOM_STATE)"
   ]
  },
  {
   "cell_type": "code",
   "execution_count": 9,
   "id": "51d33730",
   "metadata": {},
   "outputs": [],
   "source": [
    "# save sample to csv\n",
    "\n",
    "sent_sample2.to_csv('../files/sentences/samples/s02_reuters_sample800.csv')"
   ]
  }
 ],
 "metadata": {
  "kernelspec": {
   "display_name": "Python 3 (ipykernel)",
   "language": "python",
   "name": "python3"
  },
  "language_info": {
   "codemirror_mode": {
    "name": "ipython",
    "version": 3
   },
   "file_extension": ".py",
   "mimetype": "text/x-python",
   "name": "python",
   "nbconvert_exporter": "python",
   "pygments_lexer": "ipython3",
   "version": "3.9.7"
  }
 },
 "nbformat": 4,
 "nbformat_minor": 5
}
