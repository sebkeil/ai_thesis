{
 "cells": [
  {
   "cell_type": "code",
   "execution_count": null,
   "id": "32ca18f6",
   "metadata": {},
   "outputs": [],
   "source": [
    "import pandas as pd"
   ]
  },
  {
   "cell_type": "code",
   "execution_count": null,
   "id": "f10ee17a",
   "metadata": {},
   "outputs": [],
   "source": [
    "sent_df = pd.read_csv('../files/datasets/unlabeled/c02_reuters_sentence_pool.csv')"
   ]
  },
  {
   "cell_type": "code",
   "execution_count": null,
   "id": "ff0bdb4b",
   "metadata": {},
   "outputs": [],
   "source": [
    "RANDOM_STATE = 42"
   ]
  },
  {
   "cell_type": "markdown",
   "id": "f4bcc67c",
   "metadata": {},
   "source": [
    "# Sample 01: 200 instances (randomly chosen)"
   ]
  },
  {
   "cell_type": "code",
   "execution_count": null,
   "id": "06221675",
   "metadata": {},
   "outputs": [],
   "source": [
    "# save a subset of 200 instances for experiments\n",
    "\n",
    "sent_sample = sent_df.sample(n=200, random_state=RANDOM_STATE)"
   ]
  },
  {
   "cell_type": "code",
   "execution_count": null,
   "id": "8b96c384",
   "metadata": {},
   "outputs": [],
   "source": [
    "sent_sample.head()"
   ]
  },
  {
   "cell_type": "code",
   "execution_count": null,
   "id": "3c2c563e",
   "metadata": {},
   "outputs": [],
   "source": [
    "# save sample to csv file\n",
    "\n",
    "sent_sample.to_csv('../files/datasets/unlabeled/samples/s01_reuters_sample200.csv')"
   ]
  },
  {
   "cell_type": "code",
   "execution_count": null,
   "id": "eadeb45c",
   "metadata": {},
   "outputs": [],
   "source": [
    "# take previous sample out of the database\n",
    "sent_df = sent_df.drop(sent_sample.index)"
   ]
  },
  {
   "cell_type": "markdown",
   "id": "b3b10d52",
   "metadata": {},
   "source": [
    "# Sample 02: 800 instances (randomly chosen)"
   ]
  },
  {
   "cell_type": "code",
   "execution_count": null,
   "id": "117a868a",
   "metadata": {},
   "outputs": [],
   "source": [
    "# get a new sample\n",
    "\n",
    "sent_sample2 = sent_df.sample(n=800, random_state=RANDOM_STATE)"
   ]
  },
  {
   "cell_type": "code",
   "execution_count": null,
   "id": "51d33730",
   "metadata": {},
   "outputs": [],
   "source": [
    "# save sample to csv\n",
    "\n",
    "sent_sample2.to_csv('../files/datasets/unlabeled/samples/s02_reuters_sample800.csv')"
   ]
  }
 ],
 "metadata": {
  "kernelspec": {
   "display_name": "Python 3 (ipykernel)",
   "language": "python",
   "name": "python3"
  },
  "language_info": {
   "codemirror_mode": {
    "name": "ipython",
    "version": 3
   },
   "file_extension": ".py",
   "mimetype": "text/x-python",
   "name": "python",
   "nbconvert_exporter": "python",
   "pygments_lexer": "ipython3",
   "version": "3.9.7"
  }
 },
 "nbformat": 4,
 "nbformat_minor": 5
}
